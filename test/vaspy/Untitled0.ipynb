{
 "metadata": {
  "name": "",
  "signature": "sha256:d504cd1caa696c344b5fb9930c19285c3069aeaff7a680d94b9c79fc1e3bdf79"
 },
 "nbformat": 3,
 "nbformat_minor": 0,
 "worksheets": [
  {
   "cells": [
    {
     "cell_type": "code",
     "collapsed": false,
     "input": [
      "import numpy as np\n",
      "import vaspy.procar as procar"
     ],
     "language": "python",
     "metadata": {},
     "outputs": [],
     "prompt_number": 1
    },
    {
     "cell_type": "code",
     "collapsed": false,
     "input": [
      "std = procar.PROCAR(\"./PROCAR_dummy\", phase_read=True)\n",
      "spin = procar.PROCAR(\"./PROCAR_spin_dummy\", phase_read=True)\n",
      "soi = procar.PROCAR(\"./PROCAR_SOI_dummy\", phase_read=True)\n",
      "single=procar.PROCAR(\"./PROCAR_single\")"
     ],
     "language": "python",
     "metadata": {},
     "outputs": [],
     "prompt_number": 4
    },
    {
     "cell_type": "code",
     "collapsed": false,
     "input": [
      "stdband=std.band()\n",
      "spinband=spin.band()\n",
      "soiband=soi.band()\n",
      "singleband=single.band()"
     ],
     "language": "python",
     "metadata": {},
     "outputs": [],
     "prompt_number": 7
    },
    {
     "cell_type": "code",
     "collapsed": false,
     "input": [
      "\n"
     ],
     "language": "python",
     "metadata": {},
     "outputs": []
    },
    {
     "cell_type": "code",
     "collapsed": false,
     "input": [
      "for i in range(stdband.numk):\n",
      "    for j in range(len(stdband.available_band)):\n",
      "        print(np.sum([y for x, y in enumerate(stdband.orbitals[i,j]) if x in (0,2)],axis=0))"
     ],
     "language": "python",
     "metadata": {},
     "outputs": [
      {
       "output_type": "stream",
       "stream": "stdout",
       "text": [
        "[ 0.002   0.0022  0.0024  0.0026  0.0028  0.003   0.0032  0.0034  0.0036]\n",
        "[ 0.008   0.0082  0.0084  0.0086  0.0088  0.009   0.0092  0.0094  0.0096]\n",
        "[ 0.014   0.0142  0.0144  0.0146  0.0148  0.015   0.0152  0.0154  0.0156]\n",
        "[ 0.02    0.0202  0.0204  0.0206  0.0208  0.021   0.0212  0.0214  0.0216]\n",
        "[ 0.026   0.0262  0.0264  0.0266  0.0268  0.027   0.0272  0.0274  0.0276]\n",
        "[ 0.032   0.0322  0.0324  0.0326  0.0328  0.033   0.0332  0.0334  0.0336]\n"
       ]
      }
     ],
     "prompt_number": 48
    },
    {
     "cell_type": "code",
     "collapsed": false,
     "input": [
      "composedstdorbital=np.array([[[np.sum([y for x, y in enumerate(stdband.orbitals[i,j]) if x in (0,2)],axis=0)] \n",
      "                     for j in range(len(stdband.available_band))] \n",
      "                     for i in range(stdband.numk)])"
     ],
     "language": "python",
     "metadata": {},
     "outputs": [],
     "prompt_number": 69
    },
    {
     "cell_type": "code",
     "collapsed": false,
     "input": [
      "composedstdorbital"
     ],
     "language": "python",
     "metadata": {},
     "outputs": [
      {
       "metadata": {},
       "output_type": "pyout",
       "prompt_number": 70,
       "text": [
        "array([[[[ 0.002 ,  0.0022,  0.0024,  0.0026,  0.0028,  0.003 ,  0.0032,\n",
        "           0.0034,  0.0036]],\n",
        "\n",
        "        [[ 0.008 ,  0.0082,  0.0084,  0.0086,  0.0088,  0.009 ,  0.0092,\n",
        "           0.0094,  0.0096]]],\n",
        "\n",
        "\n",
        "       [[[ 0.014 ,  0.0142,  0.0144,  0.0146,  0.0148,  0.015 ,  0.0152,\n",
        "           0.0154,  0.0156]],\n",
        "\n",
        "        [[ 0.02  ,  0.0202,  0.0204,  0.0206,  0.0208,  0.021 ,  0.0212,\n",
        "           0.0214,  0.0216]]],\n",
        "\n",
        "\n",
        "       [[[ 0.026 ,  0.0262,  0.0264,  0.0266,  0.0268,  0.027 ,  0.0272,\n",
        "           0.0274,  0.0276]],\n",
        "\n",
        "        [[ 0.032 ,  0.0322,  0.0324,  0.0326,  0.0328,  0.033 ,  0.0332,\n",
        "           0.0334,  0.0336]]]])"
       ]
      }
     ],
     "prompt_number": 70
    },
    {
     "cell_type": "code",
     "collapsed": false,
     "input": [
      "composedstdorbital.shape"
     ],
     "language": "python",
     "metadata": {},
     "outputs": [
      {
       "metadata": {},
       "output_type": "pyout",
       "prompt_number": 72,
       "text": [
        "(3, 2, 1, 9)"
       ]
      }
     ],
     "prompt_number": 72
    },
    {
     "cell_type": "code",
     "collapsed": false,
     "input": [
      "stdband.orbitals.shape"
     ],
     "language": "python",
     "metadata": {},
     "outputs": [
      {
       "metadata": {},
       "output_type": "pyout",
       "prompt_number": 60,
       "text": [
        "(3, 2, 3, 9)"
       ]
      }
     ],
     "prompt_number": 60
    },
    {
     "cell_type": "code",
     "collapsed": false,
     "input": [],
     "language": "python",
     "metadata": {},
     "outputs": []
    }
   ],
   "metadata": {}
  }
 ]
}